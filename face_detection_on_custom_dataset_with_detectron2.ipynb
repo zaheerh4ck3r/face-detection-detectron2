{
  "cells": [
    {
      "cell_type": "code",
      "execution_count": null,
      "metadata": {
        "id": "JLwmaJfhNjF3"
      },
      "outputs": [],
      "source": [
        "# !pip install -q cython pyyaml\n",
        "# !pip install -q -U 'git+https://github.com/cocodataset/cocoapi.git#subdirectory=PythonAPI'"
      ]
    },
    {
      "cell_type": "code",
      "execution_count": null,
      "metadata": {
        "id": "mnD9ogrcOagt"
      },
      "outputs": [],
      "source": [
        "# !python -m pip install 'git+https://github.com/facebookresearch/detectron2.git'\n"
      ]
    },
    {
      "cell_type": "code",
      "execution_count": null,
      "metadata": {
        "colab": {
          "base_uri": "https://localhost:8080/"
        },
        "id": "dFsu92UpO-hj",
        "outputId": "6fac963e-454a-4d06-c934-a47c2c919626"
      },
      "outputs": [],
      "source": [
        "%reload_ext watermark\n",
        "%watermark -v -p numpy,pandas,pycocotools,torch,torchvision,detectron2"
      ]
    },
    {
      "cell_type": "code",
      "execution_count": null,
      "metadata": {
        "colab": {
          "base_uri": "https://localhost:8080/"
        },
        "id": "xaOL2sveQJCZ",
        "outputId": "75e9c849-5fea-4ab2-f78b-9927771f0c9b"
      },
      "outputs": [],
      "source": [
        "import torch, torchvision\n",
        "import detectron2\n",
        "from detectron2.utils.logger import setup_logger\n",
        "setup_logger()\n",
        "\n",
        "import glob\n",
        "\n",
        "\n",
        "import os\n",
        "import ntpath\n",
        "import numpy as np\n",
        "import cv2\n",
        "import random\n",
        "import itertools\n",
        "import pandas as pd\n",
        "from tqdm import tqdm\n",
        "import urllib\n",
        "import json\n",
        "import PIL.Image as Image\n",
        "\n",
        "\n",
        "from detectron2 import model_zoo\n",
        "from detectron2.engine import DefaultPredictor, DefaultTrainer\n",
        "from detectron2.config import get_cfg\n",
        "from detectron2.utils.visualizer import Visualizer, ColorMode\n",
        "from detectron2.data import DatasetCatalog, MetadataCatalog, build_detection_test_loader\n",
        "from detectron2.evaluation import COCOEvaluator, inference_on_dataset\n",
        "from detectron2.structures import BoxMode\n",
        "\n",
        "\n",
        "import seaborn as sns\n",
        "from pylab import rcParams\n",
        "import matplotlib.pyplot as plt\n",
        "from matplotlib import rc\n",
        "\n",
        "\n",
        "%matplotlib inline\n",
        "%config InlineBackend.figure_format='retina'\n",
        "\n",
        "sns.set(style='whitegrid', palette='muted', font_scale=1.2)\n",
        "\n",
        "\n",
        "HAPPY_COLORS_PALETTE = [\"#01BEFE\", \"#FFDD00\", \"#FF7D00\", \"#FF006D\", \"#ADFF02\", \"#8F00FF\"]\n",
        "\n",
        "\n",
        "sns.set_palette(sns.color_palette(HAPPY_COLORS_PALETTE))\n",
        "\n",
        "\n",
        "rcParams['figure.figsize'] = 12, 8\n",
        "\n",
        "RANDOM_SEED = 42\n",
        "np.random.seed(RANDOM_SEED)\n",
        "torch.manual_seed(RANDOM_SEED)"
      ]
    },
    {
      "cell_type": "code",
      "execution_count": null,
      "metadata": {
        "colab": {
          "base_uri": "https://localhost:8080/"
        },
        "id": "UGalflZRQaLO",
        "outputId": "5b7980de-7b4e-4d47-c0fb-5dcf0c53b441"
      },
      "outputs": [],
      "source": [
        "!gdown --id 1K79wJgmPTWamqb04Op2GxW0SW9oxw8KS"
      ]
    },
    {
      "cell_type": "code",
      "execution_count": null,
      "metadata": {
        "id": "Lioj-F7ORojF"
      },
      "outputs": [],
      "source": [
        "faces_df = pd.read_json('face_detection.json', lines=True)"
      ]
    },
    {
      "cell_type": "code",
      "execution_count": null,
      "metadata": {
        "colab": {
          "base_uri": "https://localhost:8080/",
          "height": 407
        },
        "id": "tmiD2cpgRqTW",
        "outputId": "9356f0e2-c2bc-49a1-9df6-59473dbed450"
      },
      "outputs": [],
      "source": [
        "\n",
        "os.makedirs(\"faces\", exist_ok=True)\n",
        "dataset = []\n",
        "for index, row in tqdm(faces_df.iterrows(), total=faces_df.shape[0]):\n",
        "    img = urllib.request.urlopen(row[\"content\"])\n",
        "    img = Image.open(img)\n",
        "    img = img.convert('RGB')\n",
        "    image_name = f'face_{index}.jpeg'\n",
        "    img.save(f'faces/{image_name}', \"JPEG\")\n",
        "    annotations = row['annotation']\n",
        "    for an in annotations:\n",
        "      data = {}\n",
        "      width = an['imageWidth']\n",
        "      height = an['imageHeight']\n",
        "      points = an['points']\n",
        "      data['file_name'] = image_name\n",
        "      data['width'] = width\n",
        "      data['height'] = height\n",
        "      data[\"x_min\"] = int(round(points[0][\"x\"] * width))\n",
        "      data[\"y_min\"] = int(round(points[0][\"y\"] * height))\n",
        "      data[\"x_max\"] = int(round(points[1][\"x\"] * width))\n",
        "      data[\"y_max\"] = int(round(points[1][\"y\"] * height))\n",
        "      data['class_name'] = 'face'\n",
        "      dataset.append(data)"
      ]
    },
    {
      "cell_type": "code",
      "execution_count": null,
      "metadata": {
        "colab": {
          "base_uri": "https://localhost:8080/",
          "height": 314
        },
        "id": "Vdn_4ff6ftqo",
        "outputId": "ba88c05a-e4cb-4bc8-c7e1-20628873a5e5"
      },
      "outputs": [],
      "source": [
        "df = pd.DataFrame(dataset)\n",
        "print(df.file_name.unique().shape[0], df.shape[0])\n"
      ]
    },
    {
      "cell_type": "code",
      "execution_count": null,
      "metadata": {
        "id": "EK-2PiOqj1Hh"
      },
      "outputs": [],
      "source": [
        "df.to_csv('annotations.csv', header=True, index=None)\n"
      ]
    },
    {
      "cell_type": "code",
      "execution_count": null,
      "metadata": {
        "id": "U8pV-WcNj2MT"
      },
      "outputs": [],
      "source": [
        "def annotate_image(annotations, resize=True):\n",
        "  file_name = annotations.file_name.to_numpy()[0]\n",
        "  img = cv2.cvtColor(cv2.imread(f'faces/{file_name}'), cv2.COLOR_BGR2RGB)\n",
        "  for i, a in annotations.iterrows():\n",
        "    cv2.rectangle(img, (a.x_min, a.y_min), (a.x_max, a.y_max), (0, 255, 0), 2)\n",
        "  if not resize:\n",
        "    return img\n",
        "  return cv2.resize(img, (384, 384), interpolation = cv2.INTER_AREA)\n"
      ]
    },
    {
      "cell_type": "code",
      "execution_count": null,
      "metadata": {
        "colab": {
          "base_uri": "https://localhost:8080/",
          "height": 349
        },
        "id": "AhptI7Ptj4Da",
        "outputId": "57619089-39cd-4928-b534-bcf6f71ee31c"
      },
      "outputs": [],
      "source": [
        "img_df = df[df.file_name == df.file_name.unique()[0]]\n",
        "img = annotate_image(img_df, resize=False)\n",
        "plt.imshow(img)\n",
        "plt.axis('off');"
      ]
    },
    {
      "cell_type": "code",
      "execution_count": null,
      "metadata": {
        "colab": {
          "base_uri": "https://localhost:8080/",
          "height": 349
        },
        "id": "uJuH-X01j5U0",
        "outputId": "89de58cc-0dcf-4953-98b1-e9d265c9e589"
      },
      "outputs": [],
      "source": [
        "img_df = df[df.file_name == df.file_name.unique()[1]]\n",
        "img = annotate_image(img_df, resize=False)\n",
        "plt.imshow(img)\n",
        "plt.axis('off');"
      ]
    },
    {
      "cell_type": "code",
      "execution_count": null,
      "metadata": {
        "colab": {
          "base_uri": "https://localhost:8080/",
          "height": 314
        },
        "id": "ogffT9_Nj6bf",
        "outputId": "acd7fb46-161f-41e4-dc50-7ea04caba609"
      },
      "outputs": [],
      "source": [
        "sample_images = [annotate_image(df[df.file_name == f]) for f in df.file_name.unique()[:10]]\n",
        "sample_images = torch.as_tensor(sample_images)"
      ]
    },
    {
      "cell_type": "code",
      "execution_count": null,
      "metadata": {
        "colab": {
          "base_uri": "https://localhost:8080/",
          "height": 175
        },
        "id": "Yrn7sMbKj8LL",
        "outputId": "d4521472-7f08-48b2-fb7f-4136a3529f7e"
      },
      "outputs": [],
      "source": [
        "sample_images.shape\n"
      ]
    },
    {
      "cell_type": "code",
      "execution_count": null,
      "metadata": {
        "colab": {
          "base_uri": "https://localhost:8080/",
          "height": 193
        },
        "id": "KO6Z2417j9p8",
        "outputId": "e72fcd7a-e789-4a28-e0cf-62a77fa95fd1"
      },
      "outputs": [],
      "source": [
        "sample_images = sample_images.permute(0, 3, 1, 2)\n",
        "sample_images.shape\n"
      ]
    },
    {
      "cell_type": "code",
      "execution_count": null,
      "metadata": {
        "colab": {
          "base_uri": "https://localhost:8080/",
          "height": 245
        },
        "id": "DeXw6Q5jkABD",
        "outputId": "263cd9d5-fed8-4968-eed3-9a0d6b734bf0"
      },
      "outputs": [],
      "source": [
        "plt.figure(figsize=(24, 12))\n",
        "grid_img = torchvision.utils.make_grid(sample_images, nrow=5)\n",
        "plt.imshow(grid_img.permute(1, 2, 0))\n",
        "plt.axis('off');"
      ]
    },
    {
      "cell_type": "code",
      "execution_count": null,
      "metadata": {
        "colab": {
          "base_uri": "https://localhost:8080/",
          "height": 390
        },
        "id": "twKCs7pJkA8X",
        "outputId": "530119d0-8736-4a40-e193-4aa3c25f4a5a"
      },
      "outputs": [],
      "source": [
        "df = pd.read_csv('annotations.csv')\n",
        "IMAGES_PATH = f'faces'\n",
        "unique_files = df.file_name.unique()\n",
        "train_files = set(np.random.choice(unique_files, int(len(unique_files) * 0.95), replace=False))\n",
        "train_df = df[df.file_name.isin(train_files)]\n",
        "test_df = df[~df.file_name.isin(train_files)]"
      ]
    },
    {
      "cell_type": "code",
      "execution_count": null,
      "metadata": {
        "colab": {
          "base_uri": "https://localhost:8080/",
          "height": 390
        },
        "id": "o89nJhsEkD42",
        "outputId": "608d173c-3ec1-4f25-f257-8b0f0114e763"
      },
      "outputs": [],
      "source": [
        "df = pd.read_csv('annotations.csv')\n",
        "IMAGES_PATH = f'faces'\n",
        "unique_files = df.file_name.unique()\n",
        "train_files = set(np.random.choice(unique_files, int(len(unique_files) * 0.95), replace=False))\n",
        "train_df = df[df.file_name.isin(train_files)]\n",
        "test_df = df[~df.file_name.isin(train_files)]"
      ]
    },
    {
      "cell_type": "code",
      "execution_count": null,
      "metadata": {
        "id": "2pEf4V1dkE39"
      },
      "outputs": [],
      "source": [
        "def create_dataset_dicts(df, classes):\n",
        "  dataset_dicts = []\n",
        "  for image_id, img_name in enumerate(df.file_name.unique()):\n",
        "    record = {}\n",
        "    image_df = df[df.file_name == img_name]\n",
        "    file_path = f'{IMAGES_PATH}/{img_name}'\n",
        "    record[\"file_name\"] = file_path\n",
        "    record[\"image_id\"] = image_id\n",
        "    record[\"height\"] = int(image_df.iloc[0].height)\n",
        "    record[\"width\"] = int(image_df.iloc[0].width)\n",
        "    objs = []\n",
        "    for _, row in image_df.iterrows():\n",
        "      xmin = int(row.x_min)\n",
        "      ymin = int(row.y_min)\n",
        "      xmax = int(row.x_max)\n",
        "      ymax = int(row.y_max)\n",
        "      poly = [\n",
        "          (xmin, ymin), (xmax, ymin),\n",
        "          (xmax, ymax), (xmin, ymax)\n",
        "      ]\n",
        "      poly = list(itertools.chain.from_iterable(poly))\n",
        "      obj = {\n",
        "        \"bbox\": [xmin, ymin, xmax, ymax],\n",
        "        \"bbox_mode\": BoxMode.XYXY_ABS,\n",
        "        \"segmentation\": [poly],\n",
        "        \"category_id\": classes.index(row.class_name),\n",
        "        \"iscrowd\": 0\n",
        "      }\n",
        "      objs.append(obj)\n",
        "    record[\"annotations\"] = objs\n",
        "    dataset_dicts.append(record)\n",
        "  return dataset_dicts"
      ]
    },
    {
      "cell_type": "code",
      "execution_count": null,
      "metadata": {
        "colab": {
          "base_uri": "https://localhost:8080/",
          "height": 227
        },
        "id": "VPxtgDbLkHt3",
        "outputId": "14770058-08a0-4dad-c648-765418b1af8f"
      },
      "outputs": [],
      "source": [
        "for d in [\"train\", \"val\"]:\n",
        "  DatasetCatalog.register(\"faces_\" + d, lambda d=d: create_dataset_dicts(train_df if d == \"train\" else test_df, classes))\n",
        "  MetadataCatalog.get(\"faces_\" + d).set(thing_classes=classes)\n",
        "statement_metadata = MetadataCatalog.get(\"faces_train\")"
      ]
    },
    {
      "cell_type": "code",
      "execution_count": null,
      "metadata": {
        "id": "85I7K-TLkJnW"
      },
      "outputs": [],
      "source": [
        "class CocoTrainer(DefaultTrainer):\n",
        "  @classmethod\n",
        "  def build_evaluator(cls, cfg, dataset_name, output_folder=None):\n",
        "    if output_folder is None:\n",
        "        os.makedirs(\"coco_eval\", exist_ok=True)\n",
        "        output_folder = \"coco_eval\"\n",
        "    return COCOEvaluator(dataset_name, cfg, False, output_folder)"
      ]
    },
    {
      "cell_type": "code",
      "execution_count": null,
      "metadata": {
        "id": "ZphR_uF_kMyb"
      },
      "outputs": [],
      "source": [
        "cfg = get_cfg()\n",
        "cfg.merge_from_file(\n",
        "  model_zoo.get_config_file(\n",
        "    \"COCO-InstanceSegmentation/mask_rcnn_X_101_32x8d_FPN_3x.yaml\"\n",
        "  )\n",
        ")\n",
        "cfg.MODEL.WEIGHTS = model_zoo.get_checkpoint_url(\n",
        "  \"COCO-InstanceSegmentation/mask_rcnn_X_101_32x8d_FPN_3x.yaml\"\n",
        ")"
      ]
    },
    {
      "cell_type": "code",
      "execution_count": null,
      "metadata": {
        "id": "fXCCMjfLkRd_"
      },
      "outputs": [],
      "source": [
        "cfg.DATASETS.TRAIN = (\"faces_train\",)\n",
        "cfg.DATASETS.TEST = (\"faces_val\",)\n",
        "cfg.DATALOADER.NUM_WORKERS = 4"
      ]
    },
    {
      "cell_type": "code",
      "execution_count": null,
      "metadata": {
        "id": "uNIhyaBHkVQo"
      },
      "outputs": [],
      "source": [
        "cfg.SOLVER.IMS_PER_BATCH = 4\n",
        "cfg.SOLVER.BASE_LR = 0.001\n",
        "cfg.SOLVER.WARMUP_ITERS = 1000\n",
        "cfg.SOLVER.MAX_ITER = 1500\n",
        "cfg.SOLVER.STEPS = (1000, 1500)\n",
        "cfg.SOLVER.GAMMA = 0.05"
      ]
    },
    {
      "cell_type": "code",
      "execution_count": null,
      "metadata": {
        "colab": {
          "base_uri": "https://localhost:8080/",
          "height": 210
        },
        "id": "68_4zZ1AkWUT",
        "outputId": "38bc52db-49e3-4768-8f01-b425c8274096"
      },
      "outputs": [],
      "source": [
        "cfg.MODEL.ROI_HEADS.BATCH_SIZE_PER_IMAGE = 64\n",
        "cfg.MODEL.ROI_HEADS.NUM_CLASSES = len(classes)\n",
        "cfg.TEST.EVAL_PERIOD = 500"
      ]
    },
    {
      "cell_type": "code",
      "execution_count": null,
      "metadata": {
        "colab": {
          "base_uri": "https://localhost:8080/",
          "height": 373
        },
        "id": "WhTRP-8fkZjs",
        "outputId": "f2620a6d-25d2-40f8-e681-7b9448b9ca18"
      },
      "outputs": [],
      "source": [
        "os.makedirs(cfg.OUTPUT_DIR, exist_ok=True)\n",
        "trainer = CocoTrainer(cfg)\n",
        "trainer.resume_or_load(resume=False)\n",
        "trainer.train()"
      ]
    },
    {
      "cell_type": "code",
      "execution_count": null,
      "metadata": {
        "colab": {
          "base_uri": "https://localhost:8080/"
        },
        "id": "g2dI7_wCkcFA",
        "outputId": "86344ac9-75d6-479a-e6ed-4f6ad1db7a9f"
      },
      "outputs": [],
      "source": [
        "!gdown --id 18Ev2bpdKsBaDufhVKf0cT6RmM3FjW3nL\n",
        "!mv face_detector.pth output/model_final.pth"
      ]
    },
    {
      "cell_type": "code",
      "execution_count": null,
      "metadata": {
        "colab": {
          "base_uri": "https://localhost:8080/",
          "height": 355
        },
        "id": "RHJ8S5UMkewC",
        "outputId": "edcccd43-0e31-4be6-cc9c-f969d4fe9cd8"
      },
      "outputs": [],
      "source": [
        "cfg.MODEL.WEIGHTS = os.path.join(cfg.OUTPUT_DIR, \"model_final.pth\")\n",
        "cfg.MODEL.ROI_HEADS.SCORE_THRESH_TEST = 0.85\n",
        "predictor = DefaultPredictor(cfg)"
      ]
    },
    {
      "cell_type": "code",
      "execution_count": null,
      "metadata": {
        "colab": {
          "base_uri": "https://localhost:8080/",
          "height": 598
        },
        "id": "tk9Hxlx2kfvI",
        "outputId": "06460c05-4828-4797-d4c9-95d42155a394"
      },
      "outputs": [],
      "source": [
        "evaluator = COCOEvaluator(\"faces_val\", cfg, False, output_dir=\"./output/\")\n",
        "val_loader = build_detection_test_loader(cfg, \"faces_val\")\n",
        "inference_on_dataset(trainer.model, val_loader, evaluator)"
      ]
    },
    {
      "cell_type": "code",
      "execution_count": null,
      "metadata": {
        "colab": {
          "base_uri": "https://localhost:8080/",
          "height": 193
        },
        "id": "1GYpssJ2kgxY",
        "outputId": "f461035c-aa2d-43a5-d8d8-85e895cdb26b"
      },
      "outputs": [],
      "source": [
        "os.makedirs(\"annotated_results\", exist_ok=True)\n",
        "test_image_paths = test_df.file_name.unique()"
      ]
    },
    {
      "cell_type": "code",
      "execution_count": null,
      "metadata": {
        "colab": {
          "base_uri": "https://localhost:8080/",
          "height": 245
        },
        "id": "_NFk1qMQkiM1",
        "outputId": "8eace499-c9ae-4893-dd09-6d12318636ac"
      },
      "outputs": [],
      "source": [
        "for clothing_image in test_image_paths:\n",
        "  file_path = f'{IMAGES_PATH}/{clothing_image}'\n",
        "  im = cv2.imread(file_path)\n",
        "  outputs = predictor(im)\n",
        "  v = Visualizer(\n",
        "    im[:, :, ::-1],\n",
        "    metadata=statement_metadata,\n",
        "    scale=1.,\n",
        "    instance_mode=ColorMode.IMAGE\n",
        "  )\n",
        "  instances = outputs[\"instances\"].to(\"cpu\")\n",
        "  instances.remove('pred_masks')\n",
        "  v = v.draw_instance_predictions(instances)\n",
        "  result = v.get_image()[:, :, ::-1]\n",
        "  file_name = ntpath.basename(clothing_image)\n",
        "  write_res = cv2.imwrite(f'annotated_results/{file_name}', result)"
      ]
    },
    {
      "cell_type": "code",
      "execution_count": null,
      "metadata": {
        "colab": {
          "base_uri": "https://localhost:8080/",
          "height": 175
        },
        "id": "6MLUybXYkjf0",
        "outputId": "e3bce6d6-3365-4124-a6cb-a84f69874be0"
      },
      "outputs": [],
      "source": [
        "annotated_images = [f'annotated_results/{f}' for f in test_df.file_name.unique()]\n"
      ]
    },
    {
      "cell_type": "code",
      "execution_count": null,
      "metadata": {
        "colab": {
          "base_uri": "https://localhost:8080/",
          "height": 210
        },
        "id": "aqDuUViekkdB",
        "outputId": "04e4de78-74fb-47be-edcc-6fb646b0f235"
      },
      "outputs": [],
      "source": [
        "img = cv2.cvtColor(cv2.imread(annotated_images[0]), cv2.COLOR_BGR2RGB)\n",
        "plt.imshow(img)\n",
        "plt.axis('off');"
      ]
    },
    {
      "cell_type": "code",
      "execution_count": null,
      "metadata": {
        "colab": {
          "base_uri": "https://localhost:8080/",
          "height": 210
        },
        "id": "zBs9LWACklQN",
        "outputId": "e5936c58-42fc-4f98-8102-ace2ea6fd32e"
      },
      "outputs": [],
      "source": [
        "img = cv2.cvtColor(cv2.imread(annotated_images[1]), cv2.COLOR_BGR2RGB)\n",
        "plt.imshow(img)\n",
        "plt.axis('off');"
      ]
    },
    {
      "cell_type": "code",
      "execution_count": null,
      "metadata": {
        "colab": {
          "base_uri": "https://localhost:8080/",
          "height": 210
        },
        "id": "EX93o01Okmc3",
        "outputId": "28de0986-3446-4290-8962-fcb28c4f5b66"
      },
      "outputs": [],
      "source": [
        "img = cv2.cvtColor(cv2.imread(annotated_images[3]), cv2.COLOR_BGR2RGB)\n",
        "plt.imshow(img)\n",
        "plt.axis('off');"
      ]
    },
    {
      "cell_type": "code",
      "execution_count": null,
      "metadata": {
        "colab": {
          "base_uri": "https://localhost:8080/",
          "height": 210
        },
        "id": "-1TyLdV-knl7",
        "outputId": "21055184-f55e-486e-853e-12f42992974c"
      },
      "outputs": [],
      "source": [
        "img = cv2.cvtColor(cv2.imread(annotated_images[4]), cv2.COLOR_BGR2RGB)\n",
        "plt.imshow(img)\n",
        "plt.axis('off');"
      ]
    },
    {
      "cell_type": "code",
      "execution_count": null,
      "metadata": {
        "id": "-lE8x1ZPkqLY"
      },
      "outputs": [],
      "source": []
    }
  ],
  "metadata": {
    "colab": {
      "provenance": []
    },
    "kernelspec": {
      "display_name": "Python 3",
      "name": "python3"
    },
    "language_info": {
      "name": "python"
    }
  },
  "nbformat": 4,
  "nbformat_minor": 0
}
